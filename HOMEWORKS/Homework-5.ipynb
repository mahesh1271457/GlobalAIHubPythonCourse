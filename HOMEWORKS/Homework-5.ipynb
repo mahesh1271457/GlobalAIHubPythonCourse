{
 "cells": [
  {
   "cell_type": "code",
   "execution_count": 21,
   "metadata": {},
   "outputs": [
    {
     "name": "stdout",
     "output_type": "stream",
     "text": [
      "Enter your choice\n",
      "1.enter details 2.Exit\n",
      "1\n",
      "Enter animals name:tiger\n",
      "animals section\n",
      "animals name: tiger\n",
      "Enter dogs name:puppy\n",
      "dogs section\n",
      "Dog's name: puppy\n",
      "Enter cats name:tommy\n",
      "cats section\n",
      "cat's name: tommy\n",
      "Enter your choice\n",
      "1.enter details 2.Exit\n",
      "2\n"
     ]
    }
   ],
   "source": [
    "class Animals:\n",
    "      def __init__(self):\n",
    "            self.Anmname=input(\"Enter animals name:\")\n",
    "      def display(self):\n",
    "           print(\"animals name:\",self.Anmname)\n",
    "    \n",
    "class dogs:\n",
    "      def __init__(self):\n",
    "            self.dogname=input(\"Enter dogs name:\")\n",
    "      def display(self):\n",
    "            print(\"Dog's name:\",self.dogname)\n",
    "            \n",
    "class cats:\n",
    "      def __init__(self):\n",
    "            self.catsname=input(\"Enter cats name:\")\n",
    "      def display(self):\n",
    "            print(\"cat's name:\",self.catsname)\n",
    "\n",
    "while 1:\n",
    "      print(\"Enter your choice\")\n",
    "      print(\"1.enter details 2.Exit\")\n",
    "      n=int(input())\n",
    "      if n==1:\n",
    "            single=Animals()\n",
    "            print(\"animals section\")\n",
    "            single.display()\n",
    "            \n",
    "            single1=dogs()\n",
    "            print(\"dogs section\")\n",
    "            single1.display()\n",
    "            \n",
    "            single2=cats()\n",
    "            print(\"cats section\")\n",
    "            single2.display()\n",
    "      elif n==2:\n",
    "            break\n",
    "      else:\n",
    "            print(\"Invalid choice\")\n"
   ]
  }
 ],
 "metadata": {
  "kernelspec": {
   "display_name": "Python 3",
   "language": "python",
   "name": "python3"
  },
  "language_info": {
   "codemirror_mode": {
    "name": "ipython",
    "version": 3
   },
   "file_extension": ".py",
   "mimetype": "text/x-python",
   "name": "python",
   "nbconvert_exporter": "python",
   "pygments_lexer": "ipython3",
   "version": "3.8.5"
  }
 },
 "nbformat": 4,
 "nbformat_minor": 4
}
