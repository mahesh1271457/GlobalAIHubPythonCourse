{
  "nbformat": 4,
  "nbformat_minor": 0,
  "metadata": {
    "colab": {
      "name": "login.ipynb",
      "provenance": [],
      "authorship_tag": "ABX9TyPeKQiCeNFPSUHjoOPX1VPH",
      "include_colab_link": true
    },
    "kernelspec": {
      "name": "python3",
      "display_name": "Python 3"
    }
  },
  "cells": [
    {
      "cell_type": "markdown",
      "metadata": {
        "id": "view-in-github",
        "colab_type": "text"
      },
      "source": [
        "<a href=\"https://colab.research.google.com/github/mahesh1271457/GlobalAIHubPythonCourse/blob/main1/login.ipynb\" target=\"_parent\"><img src=\"https://colab.research.google.com/assets/colab-badge.svg\" alt=\"Open In Colab\"/></a>"
      ]
    },
    {
      "cell_type": "code",
      "metadata": {
        "colab": {
          "base_uri": "https://localhost:8080/"
        },
        "id": "oEyz6eoxlOJ1",
        "outputId": "f1ee3be8-4c17-4296-edaf-bfb1f87c2a9e"
      },
      "source": [
        "x=\"a\"\r\n",
        "y=\"123\"\r\n",
        "print('Welcome to Sign in')\r\n",
        "#user=input(\"Enter username: \")\r\n",
        "for i in range (3, 0 , -1):\r\n",
        "  attempt=input(\"Enter username: \")\r\n",
        "  if attempt==x:\r\n",
        "    break\r\n",
        "  else:\r\n",
        "    print('Incorrect-try again')\r\n",
        "    \r\n",
        "if i == 1:\r\n",
        "  print('You have been denied access.')\r\n",
        "else:\r\n",
        "  print('username has been accepted.')            \r\n",
        "    \r\n",
        "\r\n",
        "for i in range (3, 0 , -1):\r\n",
        "  attempt=input(\"Enter Password: \")\r\n",
        "  if attempt==y:\r\n",
        "    break\r\n",
        "  else:\r\n",
        "    print('Incorrect-try again')\r\n",
        "    \r\n",
        "if i == 1:\r\n",
        "  print('You have been denied access.')\r\n",
        "else:\r\n",
        "  print('password has been accepted.')"
      ],
      "execution_count": 2,
      "outputs": [
        {
          "output_type": "stream",
          "text": [
            "Welcome to Sign in\n",
            "Enter username: mahesh\n",
            "Incorrect-try again\n",
            "Enter username: a\n",
            "username has been accepted.\n",
            "Enter Password: 12\n",
            "Incorrect-try again\n",
            "Enter Password: 123\n",
            "password has been accepted.\n"
          ],
          "name": "stdout"
        }
      ]
    }
  ]
}